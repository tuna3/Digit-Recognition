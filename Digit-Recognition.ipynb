{
 "cells": [
  {
   "cell_type": "code",
   "execution_count": 1,
   "metadata": {},
   "outputs": [],
   "source": [
    "import torch\n",
    "import numpy as np\n",
    "from torch.autograd import Variable\n",
    "import torch.nn as nn\n",
    "import torchvision.datasets as datasets\n",
    "import torchvision.transforms as transforms\n",
    "import torch.nn.functional as F\n"
   ]
  },
  {
   "cell_type": "code",
   "execution_count": 2,
   "metadata": {
    "scrolled": true
   },
   "outputs": [],
   "source": [
    "root = './data'\n",
    "download ='False'\n",
    "trans = transforms.Compose([transforms.ToTensor(), transforms.Normalize((0.5,),(1.0,))])\n",
    "train_set = datasets.MNIST(root=root, train=True, transform=trans, download=download)\n",
    "test_set = datasets.MNIST(root=root, train=False, transform=trans)\n"
   ]
  },
  {
   "cell_type": "code",
   "execution_count": 3,
   "metadata": {},
   "outputs": [],
   "source": [
    "batch_size = 256\n",
    "train_loader = torch.utils.data.DataLoader(\n",
    "                 dataset=train_set,\n",
    "                 batch_size=batch_size,\n",
    "                 shuffle=True)\n",
    "test_loader = torch.utils.data.DataLoader(\n",
    "                dataset=test_set,\n",
    "                batch_size=batch_size,\n",
    "                shuffle=False)"
   ]
  },
  {
   "cell_type": "code",
   "execution_count": 4,
   "metadata": {},
   "outputs": [],
   "source": [
    "class CNN_Classifier(nn.Module):\n",
    "    \n",
    "    def __init__(self):\n",
    "        super(self.__class__, self).__init__()\n",
    "        self.conv1 = nn.Conv2d(1,20,3)\n",
    "        self.conv2 = nn.Conv2d(20,40,3)\n",
    "        self.fcn1 = nn.Linear(5*5*40,500)\n",
    "        self.fcn2 = nn.Linear(500,10)\n",
    "        \n",
    "    def forward(self, x):\n",
    "        x = F.relu(self.conv1(x))\n",
    "        x = F.max_pool2d(x,2,2)\n",
    "        x = F.relu(self.conv2(x))\n",
    "        x = F.max_pool2d(x, 2, 2)\n",
    "        x = x.view(-1,1000)#5*5*40\n",
    "        x = F.relu(self.fcn1(x))\n",
    "        x = self.fcn2(x)\n",
    "        return x\n",
    "        \n",
    "        "
   ]
  },
  {
   "cell_type": "code",
   "execution_count": 5,
   "metadata": {},
   "outputs": [],
   "source": [
    "model = CNN_Classifier()\n",
    "lr =1e-3\n",
    "optimizer = torch.optim.Adam(model.parameters(),lr=lr)\n",
    "loss_fn = nn.CrossEntropyLoss()"
   ]
  },
  {
   "cell_type": "code",
   "execution_count": 6,
   "metadata": {},
   "outputs": [
    {
     "data": {
      "text/plain": [
       "\"\\nN =len(train_set)\\ndef random_batch(batch_size):\\n    ind = np.random.randint(0, N+1, batch_size)\\n    image, label = train_set[1]\\n    #print('imp',image.size(),label.size())\\n    #image = image.unsqueeze(dim=1)\\n    #label = train_set.train_labels.view(-1,1)[ind,:].view(-1)\\n    #print('label',label)\\n    image = Variable(image)\\n    label = Variable(label)\\n    #print('label',label)\\n    return image, label\\n\""
      ]
     },
     "execution_count": 6,
     "metadata": {},
     "output_type": "execute_result"
    }
   ],
   "source": [
    "'''\n",
    "N =len(train_set)\n",
    "def random_batch(batch_size):\n",
    "    ind = np.random.randint(0, N+1, batch_size)\n",
    "    image, label = train_set[1]\n",
    "    #print('imp',image.size(),label.size())\n",
    "    #image = image.unsqueeze(dim=1)\n",
    "    #label = train_set.train_labels.view(-1,1)[ind,:].view(-1)\n",
    "    #print('label',label)\n",
    "    image = Variable(image)\n",
    "    label = Variable(label)\n",
    "    #print('label',label)\n",
    "    return image, label\n",
    "'''"
   ]
  },
  {
   "cell_type": "code",
   "execution_count": 8,
   "metadata": {},
   "outputs": [
    {
     "name": "stdout",
     "output_type": "stream",
     "text": [
      "loss Variable containing:\n",
      "1.00000e-02 *\n",
      "  8.0351\n",
      "[torch.FloatTensor of size 1]\n",
      "\n",
      "loss Variable containing:\n",
      "1.00000e-02 *\n",
      "  5.6107\n",
      "[torch.FloatTensor of size 1]\n",
      "\n",
      "loss Variable containing:\n",
      " 0.1108\n",
      "[torch.FloatTensor of size 1]\n",
      "\n",
      "loss Variable containing:\n",
      "1.00000e-02 *\n",
      "  5.4973\n",
      "[torch.FloatTensor of size 1]\n",
      "\n"
     ]
    }
   ],
   "source": [
    "batch_size =256\n",
    "losses =[]\n",
    "for t in range(2):\n",
    "    count =0\n",
    "    for batch_idx, (image, label) in enumerate(train_loader):\n",
    "        image, label = Variable(image),Variable(label)\n",
    "        y_pred = model(image)\n",
    "        loss = loss_fn(y_pred, label)\n",
    "        losses.append(loss)\n",
    "        model.zero_grad()\n",
    "        loss.backward()\n",
    "        optimizer.step()\n",
    "        count+=1\n",
    "        if count%100 ==0:\n",
    "            print(\"loss\",loss)\n",
    "             "
   ]
  },
  {
   "cell_type": "code",
   "execution_count": 16,
   "metadata": {},
   "outputs": [
    {
     "name": "stdout",
     "output_type": "stream",
     "text": [
      "==>>> acc: 0.992\n",
      "==>>> acc: 0.984\n",
      "==>>> acc: 0.982\n",
      "==>>> acc: 0.980\n",
      "==>>> acc: 0.979\n",
      "==>>> acc: 0.979\n",
      "==>>> acc: 0.979\n",
      "==>>> acc: 0.979\n",
      "==>>> acc: 0.978\n",
      "==>>> acc: 0.978\n",
      "==>>> acc: 0.978\n",
      "==>>> acc: 0.978\n",
      "==>>> acc: 0.979\n",
      "==>>> acc: 0.979\n",
      "==>>> acc: 0.979\n",
      "==>>> acc: 0.979\n",
      "==>>> acc: 0.979\n",
      "==>>> acc: 0.979\n",
      "==>>> acc: 0.978\n",
      "==>>> acc: 0.979\n",
      "==>>> acc: 0.980\n",
      "==>>> acc: 0.981\n",
      "==>>> acc: 0.981\n",
      "==>>> acc: 0.982\n",
      "==>>> acc: 0.983\n",
      "==>>> acc: 0.983\n",
      "==>>> acc: 0.983\n",
      "==>>> acc: 0.983\n",
      "==>>> acc: 0.984\n",
      "==>>> acc: 0.984\n",
      "==>>> acc: 0.985\n",
      "==>>> acc: 0.985\n",
      "==>>> acc: 0.985\n",
      "==>>> acc: 0.985\n",
      "==>>> acc: 0.986\n",
      "==>>> acc: 0.986\n",
      "==>>> acc: 0.986\n",
      "==>>> acc: 0.986\n",
      "==>>> acc: 0.986\n",
      "==>>> acc: 0.986\n"
     ]
    }
   ],
   "source": [
    "correct_cnt, ave_loss = 0, 0\n",
    "total_cnt = 0\n",
    "for batch_idx, (image, label) in enumerate(test_loader):\n",
    "    image, label = Variable(image, volatile=True), Variable(label, volatile=True)\n",
    "    out = model(image)\n",
    "    _, pred_label = torch.max(out.data, 1)\n",
    "    total_cnt += image.data.size()[0]\n",
    "    correct_cnt += (pred_label == label.data).sum()\n",
    "    \n",
    "    print(\"==>>> acc: {:.3f}\".format(correct_cnt * 1.0 / total_cnt))\n",
    "\n",
    "torch.save(model.state_dict(),\"mnist\")"
   ]
  },
  {
   "cell_type": "code",
   "execution_count": null,
   "metadata": {},
   "outputs": [],
   "source": []
  }
 ],
 "metadata": {
  "kernelspec": {
   "display_name": "Python 3",
   "language": "python",
   "name": "python3"
  },
  "language_info": {
   "codemirror_mode": {
    "name": "ipython",
    "version": 3
   },
   "file_extension": ".py",
   "mimetype": "text/x-python",
   "name": "python",
   "nbconvert_exporter": "python",
   "pygments_lexer": "ipython3",
   "version": "3.6.4"
  }
 },
 "nbformat": 4,
 "nbformat_minor": 2
}
